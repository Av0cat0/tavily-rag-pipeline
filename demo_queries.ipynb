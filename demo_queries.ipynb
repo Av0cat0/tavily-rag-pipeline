{
 "cells": [
  {
   "cell_type": "markdown",
   "metadata": {},
   "source": [
    "# Demo: LLM Agent with Tavily & LangGraph\n",
    "\n",
    "This notebook demonstrates the usage of your LangGraph pipeline that integrates:\n",
    "- ✅ Query parsing (subquery generation)\n",
    "- ✅ Tavily search via Async API\n",
    "- ✅ Cohere LLM with streaming response\n",
    "- ✅ Pretty CLI output"
   ]
  },
  {
   "cell_type": "code",
   "execution_count": null,
   "id": "0d8a7f39",
   "metadata": {},
   "outputs": [],
   "source": [
    "%reload_ext autoreload\n",
    "%autoreload 2\n",
    "\n",
    "import nest_asyncio\n",
    "from agent.langraph_pipeline import TavilyRAGPipeline"
   ]
  },
  {
   "cell_type": "markdown",
   "id": "aa1b4eb7",
   "metadata": {},
   "source": [
    "\n",
    "## ⚙️ Setup\n",
    "\n",
    "Make sure the following environment variables are set:\n",
    "\n",
    "```bash\n",
    "export COHERE_API_KEY=your_cohere_key\n",
    "export TAVILY_API_KEY=your_tavily_key\n",
    "```\n",
    "and install the required packages:\n",
    "```bash\n",
    "pip install -r requirements.txt\n",
    "```"
   ]
  },
  {
   "cell_type": "code",
   "execution_count": null,
   "id": "0c9d01a1",
   "metadata": {},
   "outputs": [],
   "source": [
    "from dotenv import load_dotenv\n",
    "load_dotenv()\n",
    "nest_asyncio.apply()"
   ]
  },
  {
   "cell_type": "code",
   "execution_count": null,
   "id": "a3743e39",
   "metadata": {},
   "outputs": [],
   "source": [
    "pipeline = TavilyRAGPipeline(show_subqueries=True)\n",
    "pipeline.visualize()"
   ]
  },
  {
   "cell_type": "code",
   "execution_count": null,
   "id": "3c234747",
   "metadata": {},
   "outputs": [],
   "source": [
    "async def run(queries, debug=False):\n",
    "    config={\"thread_id\": 1}\n",
    "    # To change the memory scope to be per query, uncomment the first line in the loop below.\n",
    "    for q in queries:\n",
    "        # rconfig={\"thread_id\": f\"run-{hash(q)}\"}\n",
    "        await pipeline.get_graph().ainvoke({\"query\": q}, config=config, debug=debug)"
   ]
  },
  {
   "cell_type": "code",
   "execution_count": null,
   "id": "de3be7a0",
   "metadata": {},
   "outputs": [],
   "source": [
    "# Define categorized test queries\n",
    "test_cases = {\n",
    "    \"Simple Queries\": [\n",
    "        \"What is LangGraph?\",\n",
    "    ],\n",
    "    \"Queries for Subquerying\": [\n",
    "        \"What is the capital of France?\",\n",
    "        \"What are the features of LangGraph and who uses it?\",\n",
    "        \"Why do we drink milk, coffee, and tea?\",\n",
    "    ],\n",
    "    \"Queries for Checkpointing\": [\n",
    "        \"Where is France located?\",\n",
    "        \"Where is Germany located?\",\n",
    "        \"Where is France located?\",\n",
    "    ],\n",
    "    \"Stress Testing Queries\": [\n",
    "        \"Tell me about LangGraph's benefits, use cases, integration with LLMs, industry adoption, competitors, and deployment options.\"\n",
    "    ],\n",
    "    \"Robustness Queries\": [\n",
    "        \"Blargle wib wib ahsheli LangGraph elephant?\"\n",
    "    ],\n",
    "    \"Short Keyword Queries\": [\n",
    "        \"LangGraph\"\n",
    "    ]\n",
    "}"
   ]
  },
  {
   "cell_type": "code",
   "execution_count": null,
   "id": "0037a41f",
   "metadata": {},
   "outputs": [],
   "source": [
    "for label, queries in test_cases.items():\n",
    "    print(f\"\\n=== Running: {label} ===\")\n",
    "    if label == \"Queries for Subquerying\":\n",
    "        debug = True\n",
    "    else:\n",
    "        debug = False\n",
    "    await run(queries, debug=debug)"
   ]
  }
 ],
 "metadata": {
  "kernelspec": {
   "display_name": "venv",
   "language": "python",
   "name": "python3"
  },
  "language_info": {
   "codemirror_mode": {
    "name": "ipython",
    "version": 3
   },
   "file_extension": ".py",
   "mimetype": "text/x-python",
   "name": "python",
   "nbconvert_exporter": "python",
   "pygments_lexer": "ipython3",
   "version": "3.9.6"
  }
 },
 "nbformat": 4,
 "nbformat_minor": 5
}
